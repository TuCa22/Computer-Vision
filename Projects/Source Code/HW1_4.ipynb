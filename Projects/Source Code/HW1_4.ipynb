{
 "cells": [
  {
   "cell_type": "markdown",
   "metadata": {},
   "source": [
    "# Bài 4: Thiết kế hệ camera"
   ]
  },
  {
   "cell_type": "code",
   "execution_count": 1,
   "metadata": {},
   "outputs": [],
   "source": [
    "import cv2\n",
    "import numpy as np\n",
    "import matplotlib.pyplot as plt"
   ]
  },
  {
   "cell_type": "markdown",
   "metadata": {},
   "source": [
    "# 4.1. Đề xuất sử dụng camera đơn sắc hay camera màu"
   ]
  },
  {
   "cell_type": "markdown",
   "metadata": {},
   "source": [
    "a. Kiểm tra đường ren và kích thước bao:\n",
    "\n",
    "- Việc phát hiện biên dạng, trích xuất đặc trưng quanh vật thể chỉ cần dựa trên độ sáng, mức xám, không yêu cầu thông tin về màu sắc. Vậy ta chọn camera đơn sắc.\n",
    "\n",
    "b. Kiểm tra các thông tin đánh dấu trên sản phẩm:\n",
    "\n",
    "- Tùy thuộc vào độ phức tạp của thông tin đánh dấu trên sản phẩm, có phân biệt bằng màu sắc hay không, có yêu cầu độ chính xác cao hay không để ta lựa chọn camera màu hoặc camera đơn sắc."
   ]
  },
  {
   "cell_type": "markdown",
   "metadata": {},
   "source": [
    "# 4.2. Đề xuất phương án chiếu sáng cho mỗi trường hợp"
   ]
  },
  {
   "cell_type": "markdown",
   "metadata": {},
   "source": [
    "a. Kiểm tra đường ren và kích thước bao:\n",
    "\n",
    "- Sử dụng phương pháp chiếu Back Light sẽ cho ta thu được biên dạng, đặc trưng bao quanh vật.\n",
    "\n",
    "b. Kiểm tra các thông tin đánh dấu trên sản phẩm:\n",
    "\n",
    "- Sử dụng phương pháp chiếu Front Ligth sẽ cho ta thu được hình ảnh trên bề mặt vật."
   ]
  },
  {
   "cell_type": "markdown",
   "metadata": {},
   "source": [
    "# 4.3. Tính toán chọn lens"
   ]
  },
  {
   "cell_type": "markdown",
   "metadata": {},
   "source": [
    "- Field of view (FoV): diện tích kiểm tra mà các camera cần quan sát được.\n",
    "- Working distance (WD): khoảng cách từ mặt trước của Len đến nền đối tượng\n",
    "- Smallest feature (SF): kích thước của đối tượng nhỏ nhất mà bạn muốn phát hiện trong ảnh, kích thước này được đại diện bởi khoảng cách giữa 2 điểm ảnh. \n",
    "Thông số đầu tiên bạn cần xét tới là Smallest Feature (SF), ví dụ: trong một ứng dụng đo kích thước 1 đối tượng có diện tích 500mmx500mm, khách hàng yêu cầu sai số là < 1mm. Lúc này ta cần tính giá trị Resolution (DxR pixel) của camera để có thể chụp được toàn diện tích đối tượng mà đảm bảo được sai số kích thước là <1mm. Ta lập lên công thức tỷ lệ như sau: \n",
    "                        500 mm  <--->  n pixel\n",
    "                        1 mm      <----> 2 pixel\n",
    "D=R= (500x2)/0.5=2000px\n",
    "=> Như vậy camera của bạn phải có thông số Resolution tối thiểu bằng 2000x2000px"
   ]
  },
  {
   "cell_type": "markdown",
   "metadata": {},
   "source": [
    "Kích thước mỗi điểm ảnh (Pixel size):\n",
    "\n",
    "pixel width = pixel height = sai số phép đo / sai số pixel = 0.03 / 3 = 0.01 mm = 10 um\n",
    "=> pixel size: 10x10 um"
   ]
  },
  {
   "cell_type": "markdown",
   "metadata": {},
   "source": [
    "Kích thước vật lý của cảm biến hình ảnh CMOS (Sensor size in mm)\n",
    "\n",
    "Chiều rộng của sensor: sensor width = 640 x pixel width = 6.4 mm\n",
    "Chiều cao của sensor: sensor width = 480 x pixel width = 4.8 mm\n",
    "=> Đường chéo của sensor: sensor diagonal = sqrt(6.4^2 + 4.8^2) = 8 mm = 0.315 inch = 1/2\"\n"
   ]
  },
  {
   "cell_type": "markdown",
   "metadata": {},
   "source": [
    "Tiêu cự của thấu kính (Focal length)"
   ]
  },
  {
   "cell_type": "markdown",
   "metadata": {},
   "source": [
    "Khoảng cách từ thấu kính tới nền đối tượng (Working distance)"
   ]
  }
 ],
 "metadata": {
  "kernelspec": {
   "display_name": "Python 3",
   "language": "python",
   "name": "python3"
  },
  "language_info": {
   "codemirror_mode": {
    "name": "ipython",
    "version": 3
   },
   "file_extension": ".py",
   "mimetype": "text/x-python",
   "name": "python",
   "nbconvert_exporter": "python",
   "pygments_lexer": "ipython3",
   "version": "3.11.5"
  }
 },
 "nbformat": 4,
 "nbformat_minor": 2
}
